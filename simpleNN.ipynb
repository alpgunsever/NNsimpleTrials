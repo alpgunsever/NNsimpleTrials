{
 "cells": [
  {
   "cell_type": "markdown",
   "id": "63a1c4cc-e596-4691-9bd2-c897aecba1f3",
   "metadata": {},
   "source": [
    "This code is taken from https://www.youtube.com/watch?v=FHdlXe1bSe4&list=PLblh5JKOoLUIxGDQs4LFFD--41Vzf-ME1&index=26"
   ]
  },
  {
   "cell_type": "code",
   "execution_count": 11,
   "id": "5aa27fb7-48fd-4801-b500-0e9d493835dc",
   "metadata": {},
   "outputs": [],
   "source": [
    "# import packages\n",
    "import torch\n",
    "import torch.nn as nn\n",
    "import torch.nn.functional as F\n",
    "from torch.optim import SGD\n",
    "\n",
    "import matplotlib.pyplot as plt\n",
    "import seaborn as sns"
   ]
  },
  {
   "cell_type": "code",
   "execution_count": 32,
   "id": "5853d1f1-83c0-41cc-90fe-74f458f10098",
   "metadata": {},
   "outputs": [],
   "source": [
    "class BasicNN(nn.Module):\n",
    "    def __init__(self):\n",
    "        \n",
    "        super().__init__()\n",
    "        \n",
    "        self.w00 = nn.Parameter(torch.tensor(1.7), requires_grad=False)\n",
    "        self.b00 = nn.Parameter(torch.tensor(-0.85), requires_grad = False)\n",
    "        self.w01 = nn.Parameter(torch.tensor(-40.8), requires_grad = False)\n",
    "\n",
    "        self.w10 = nn.Parameter(torch.tensor(12.6), requires_grad=False)\n",
    "        self.b10 = nn.Parameter(torch.tensor(0.0), requires_grad = False)\n",
    "        self.w11 = nn.Parameter(torch.tensor(2.7), requires_grad = False)\n",
    "\n",
    "        self.final_bias = nn.Parameter(torch.tensor(-16.), requires_grad = False)\n",
    "\n",
    "    def forward(self,input):\n",
    "        input_to_top_relu = input * self.w00 + self.b00\n",
    "        top_relu_output = F.relu(input_to_top_relu)\n",
    "        scaled_top_relu_output = top_relu_output * self.w01\n",
    "        \n",
    "        input_to_bottom_relu = input * self.w10 + self.b10\n",
    "        bottom_relu_output = F.relu(input_to_bottom_relu)\n",
    "        scaled_bottom_relu_output = bottom_relu_output * self.w11\n",
    "\n",
    "        input_to_final_relu = scaled_top_relu_output + scaled_bottom_relu_output + self.final_bias\n",
    "\n",
    "        output = F.relu(input_to_final_relu)\n",
    "\n",
    "        return output "
   ]
  },
  {
   "cell_type": "code",
   "execution_count": 34,
   "id": "950f8770-c2c0-48ce-beb3-a65b9e29d943",
   "metadata": {},
   "outputs": [],
   "source": [
    "# create dummy input\n",
    "input_doses = torch.linspace(start = 0, end = 1, steps = 11)\n",
    "\n",
    "# create model from class\n",
    "model = BasicNN()\n",
    "output_values = model(input_doses)"
   ]
  },
  {
   "cell_type": "code",
   "execution_count": 54,
   "id": "b92677ce-ef25-4fde-9028-b65197471a6c",
   "metadata": {},
   "outputs": [
    {
     "data": {
      "text/plain": [
       "[Text(0.5, 0, 'Dose'), Text(0, 0.5, 'Effectiveness')]"
      ]
     },
     "execution_count": 54,
     "metadata": {},
     "output_type": "execute_result"
    },
    {
     "data": {
      "image/png": "[encoded data removed]",
      "text/plain": [
       "<Figure size 640x480 with 1 Axes>"
      ]
     },
     "metadata": {},
     "output_type": "display_data"
    }
   ],
   "source": [
    "# plot results\n",
    "sns.set(style = \"whitegrid\")\n",
    "plt = sns.lineplot(x = input_doses, y = output_values, color = 'green', linewidth = 2.5)\n",
    "\n",
    "plt.set(xlabel='Dose', ylabel=\"Effectiveness\")"
   ]
  },
  {
   "cell_type": "code",
   "execution_count": 78,
   "id": "53e19d1d-9154-41b4-abaf-d88ec1fcad19",
   "metadata": {},
   "outputs": [],
   "source": [
    "class BasicNN_train(nn.Module):\n",
    "    def __init__(self):\n",
    "        \n",
    "        super().__init__()\n",
    "        \n",
    "        self.w00 = nn.Parameter(torch.tensor(1.7), requires_grad=False)\n",
    "        self.b00 = nn.Parameter(torch.tensor(-0.85), requires_grad = False)\n",
    "        self.w01 = nn.Parameter(torch.tensor(-40.8), requires_grad = False)\n",
    "\n",
    "        self.w10 = nn.Parameter(torch.tensor(12.6), requires_grad=False)\n",
    "        self.b10 = nn.Parameter(torch.tensor(0.0), requires_grad = False)\n",
    "        self.w11 = nn.Parameter(torch.tensor(2.7), requires_grad = False)\n",
    "\n",
    "        self.final_bias = nn.Parameter(torch.tensor(0.), requires_grad = True)\n",
    "\n",
    "    def forward(self,input):\n",
    "        input_to_top_relu = input * self.w00 + self.b00\n",
    "        top_relu_output = F.relu(input_to_top_relu)\n",
    "        scaled_top_relu_output = top_relu_output * self.w01\n",
    "        \n",
    "        input_to_bottom_relu = input * self.w10 + self.b10\n",
    "        bottom_relu_output = F.relu(input_to_bottom_relu)\n",
    "        scaled_bottom_relu_output = bottom_relu_output * self.w11\n",
    "\n",
    "        input_to_final_relu = scaled_top_relu_output + scaled_bottom_relu_output + self.final_bias\n",
    "\n",
    "        output = F.relu(input_to_final_relu)\n",
    "\n",
    "        return output "
   ]
  },
  {
   "cell_type": "code",
   "execution_count": 80,
   "id": "9a7e6f01-5d8f-4c72-93b5-cadbeaf33297",
   "metadata": {},
   "outputs": [],
   "source": [
    "# create new input doses\n",
    "inputs = torch.tensor([0., 0.5, 1.])\n",
    "\n",
    "# create output effectiveness\n",
    "labels = torch.tensor([0.,1.,0.])\n",
    "\n",
    "# create training model\n",
    "model = BasicNN_train()\n",
    "output_values = model(input_doses)"
   ]
  },
  {
   "cell_type": "code",
   "execution_count": 82,
   "id": "bb95a7a2-9e19-4b6c-9051-205821711c2c",
   "metadata": {},
   "outputs": [
    {
     "name": "stdout",
     "output_type": "stream",
     "text": [
      "Final bias, before optimization: tensor(0.)\n",
      "\n",
      "Step: 0, Final bias: tensor(-3.2020)\n",
      "\n",
      "Step: 1, Final bias: tensor(-5.7636)\n",
      "\n",
      "Step: 2, Final bias: tensor(-7.8129)\n",
      "\n",
      "Step: 3, Final bias: tensor(-9.4523)\n",
      "\n",
      "Step: 4, Final bias: tensor(-10.7638)\n",
      "\n",
      "Step: 5, Final bias: tensor(-11.8131)\n",
      "\n",
      "Step: 6, Final bias: tensor(-12.6525)\n",
      "\n",
      "Step: 7, Final bias: tensor(-13.3240)\n",
      "\n",
      "Step: 8, Final bias: tensor(-13.8612)\n",
      "\n",
      "Step: 9, Final bias: tensor(-14.2909)\n",
      "\n",
      "Step: 10, Final bias: tensor(-14.6348)\n",
      "\n",
      "Step: 11, Final bias: tensor(-14.9098)\n",
      "\n",
      "Step: 12, Final bias: tensor(-15.1298)\n",
      "\n",
      "Step: 13, Final bias: tensor(-15.3059)\n",
      "\n",
      "Step: 14, Final bias: tensor(-15.4467)\n",
      "\n",
      "Step: 15, Final bias: tensor(-15.5594)\n",
      "\n",
      "Step: 16, Final bias: tensor(-15.6495)\n",
      "\n",
      "Step: 17, Final bias: tensor(-15.7216)\n",
      "\n",
      "Step: 18, Final bias: tensor(-15.7793)\n",
      "\n",
      "Step: 19, Final bias: tensor(-15.8254)\n",
      "\n",
      "Step: 20, Final bias: tensor(-15.8623)\n",
      "\n",
      "Step: 21, Final bias: tensor(-15.8919)\n",
      "\n",
      "Step: 22, Final bias: tensor(-15.9155)\n",
      "\n",
      "Step: 23, Final bias: tensor(-15.9344)\n",
      "\n",
      "Step: 24, Final bias: tensor(-15.9495)\n",
      "\n",
      "Step: 25, Final bias: tensor(-15.9616)\n",
      "\n",
      "Step: 26, Final bias: tensor(-15.9713)\n",
      "\n",
      "Step: 27, Final bias: tensor(-15.9790)\n",
      "\n",
      "Step: 28, Final bias: tensor(-15.9852)\n",
      "\n",
      "Step: 29, Final bias: tensor(-15.9902)\n",
      "\n",
      "Step: 30, Final bias: tensor(-15.9941)\n",
      "\n",
      "Step: 31, Final bias: tensor(-15.9973)\n",
      "\n",
      "Step: 32, Final bias: tensor(-15.9999)\n",
      "\n",
      "Step: 33, Final bias: tensor(-16.0019)\n",
      "\n",
      "Num steps:34\n",
      "Final bias, after optimization: tensor(-16.0019)\n"
     ]
    }
   ],
   "source": [
    "# create optimizer for NN\n",
    "optimizer = SGD(model.parameters(), lr = 0.1)\n",
    "\n",
    "# check the current value of the final bias\n",
    "print(\"Final bias, before optimization: \" + str(model.final_bias.data) + \"\\n\")\n",
    "\n",
    "for epoch in range(100):\n",
    "    total_loss = 0\n",
    "\n",
    "    for iteration in range(len(inputs)):\n",
    "            input_i = inputs[iteration]\n",
    "            label_i = labels[iteration]\n",
    "\n",
    "            output_i = model(input_i)\n",
    "\n",
    "            loss = (output_i - label_i)**2\n",
    "\n",
    "            loss.backward()\n",
    "\n",
    "            total_loss += float(loss)\n",
    "\n",
    "    if (total_loss < 0.0001):\n",
    "        print(\"Num steps:\" + str(epoch))\n",
    "        break\n",
    "\n",
    "    optimizer.step()\n",
    "    optimizer.zero_grad()\n",
    "\n",
    "    print(\"Step: \" + str(epoch) + \", Final bias: \" + str(model.final_bias.data) + \"\\n\")\n",
    "\n",
    "print(\"Final bias, after optimization: \" + str(model.final_bias.data))"
   ]
  },
  {
   "cell_type": "code",
   "execution_count": 90,
   "id": "7e885616-3b34-46a8-a23a-c025529c63c1",
   "metadata": {},
   "outputs": [
    {
     "data": {
      "text/plain": [
       "[Text(0.5, 0, 'Dose'), Text(0, 0.5, 'Effectiveness')]"
      ]
     },
     "execution_count": 90,
     "metadata": {},
     "output_type": "execute_result"
    },
    {
     "data": {
      "image/png": "[encoded data removed]",
      "text/plain": [
       "<Figure size 640x480 with 1 Axes>"
      ]
     },
     "metadata": {},
     "output_type": "display_data"
    }
   ],
   "source": [
    "output_values = model(input_doses)\n",
    "\n",
    "# plot results\n",
    "sns.set(style = \"whitegrid\")\n",
    "plt = sns.lineplot(x = input_doses, y = output_values.detach(), color = 'green', linewidth = 2.5)\n",
    "\n",
    "plt.set(xlabel='Dose', ylabel=\"Effectiveness\")"
   ]
  },
  {
   "cell_type": "code",
   "execution_count": null,
   "id": "00a06fc1-2a68-4408-b0d3-7999347d6d84",
   "metadata": {},
   "outputs": [],
   "source": []
  }
 ],
 "metadata": {
  "kernelspec": {
   "display_name": "Python [conda env:base] *",
   "language": "python",
   "name": "conda-base-py"
  },
  "language_info": {
   "codemirror_mode": {
    "name": "ipython",
    "version": 3
   },
   "file_extension": ".py",
   "mimetype": "text/x-python",
   "name": "python",
   "nbconvert_exporter": "python",
   "pygments_lexer": "ipython3",
   "version": "3.12.7"
  }
 },
 "nbformat": 4,
 "nbformat_minor": 5
}
